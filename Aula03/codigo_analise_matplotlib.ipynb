{
 "cells": [
  {
   "cell_type": "code",
   "execution_count": 1,
   "metadata": {},
   "outputs": [],
   "source": [
    "import pandas as pd\n",
    "import matplotlib.pyplot as plt"
   ]
  },
  {
   "cell_type": "code",
   "execution_count": 2,
   "metadata": {},
   "outputs": [],
   "source": [
    "# importando a base de dados\n",
    "df = pd.read_csv('Aula03/monitoramento_tempo.csv') # realiza a leitura de um arquivo csv"
   ]
  },
  {
   "cell_type": "code",
   "execution_count": 3,
   "metadata": {},
   "outputs": [
    {
     "data": {
      "text/html": [
       "<div>\n",
       "<style scoped>\n",
       "    .dataframe tbody tr th:only-of-type {\n",
       "        vertical-align: middle;\n",
       "    }\n",
       "\n",
       "    .dataframe tbody tr th {\n",
       "        vertical-align: top;\n",
       "    }\n",
       "\n",
       "    .dataframe thead th {\n",
       "        text-align: right;\n",
       "    }\n",
       "</style>\n",
       "<table border=\"1\" class=\"dataframe\">\n",
       "  <thead>\n",
       "    <tr style=\"text-align: right;\">\n",
       "      <th></th>\n",
       "      <th>temperatura</th>\n",
       "      <th>pressão</th>\n",
       "      <th>humidade</th>\n",
       "      <th>direção do vento</th>\n",
       "      <th>velocidade do vento</th>\n",
       "      <th>dia_da_semana</th>\n",
       "      <th>data</th>\n",
       "    </tr>\n",
       "  </thead>\n",
       "  <tbody>\n",
       "    <tr>\n",
       "      <th>0</th>\n",
       "      <td>282.080000</td>\n",
       "      <td>1024.0</td>\n",
       "      <td>81.0</td>\n",
       "      <td>0.0</td>\n",
       "      <td>0.0</td>\n",
       "      <td>Domingo</td>\n",
       "      <td>2012-10-01 12:00:00</td>\n",
       "    </tr>\n",
       "    <tr>\n",
       "      <th>1</th>\n",
       "      <td>282.080000</td>\n",
       "      <td>1024.0</td>\n",
       "      <td>81.0</td>\n",
       "      <td>0.0</td>\n",
       "      <td>0.0</td>\n",
       "      <td>Domingo</td>\n",
       "      <td>2012-10-01 13:00:00</td>\n",
       "    </tr>\n",
       "    <tr>\n",
       "      <th>2</th>\n",
       "      <td>282.083252</td>\n",
       "      <td>1024.0</td>\n",
       "      <td>80.0</td>\n",
       "      <td>4.0</td>\n",
       "      <td>0.0</td>\n",
       "      <td>Domingo</td>\n",
       "      <td>2012-10-01 14:00:00</td>\n",
       "    </tr>\n",
       "    <tr>\n",
       "      <th>3</th>\n",
       "      <td>282.091866</td>\n",
       "      <td>1024.0</td>\n",
       "      <td>80.0</td>\n",
       "      <td>18.0</td>\n",
       "      <td>0.0</td>\n",
       "      <td>Domingo</td>\n",
       "      <td>2012-10-01 15:00:00</td>\n",
       "    </tr>\n",
       "    <tr>\n",
       "      <th>4</th>\n",
       "      <td>282.100481</td>\n",
       "      <td>1024.0</td>\n",
       "      <td>80.0</td>\n",
       "      <td>31.0</td>\n",
       "      <td>0.0</td>\n",
       "      <td>Domingo</td>\n",
       "      <td>2012-10-01 16:00:00</td>\n",
       "    </tr>\n",
       "  </tbody>\n",
       "</table>\n",
       "</div>"
      ],
      "text/plain": [
       "   temperatura  pressão  humidade  direção do vento  velocidade do vento  \\\n",
       "0   282.080000   1024.0      81.0               0.0                  0.0   \n",
       "1   282.080000   1024.0      81.0               0.0                  0.0   \n",
       "2   282.083252   1024.0      80.0               4.0                  0.0   \n",
       "3   282.091866   1024.0      80.0              18.0                  0.0   \n",
       "4   282.100481   1024.0      80.0              31.0                  0.0   \n",
       "\n",
       "  dia_da_semana                 data  \n",
       "0       Domingo  2012-10-01 12:00:00  \n",
       "1       Domingo  2012-10-01 13:00:00  \n",
       "2       Domingo  2012-10-01 14:00:00  \n",
       "3       Domingo  2012-10-01 15:00:00  \n",
       "4       Domingo  2012-10-01 16:00:00  "
      ]
     },
     "execution_count": 3,
     "metadata": {},
     "output_type": "execute_result"
    }
   ],
   "source": [
    "df.head() # exibe as 4 primeiras linhas do dataframe"
   ]
  },
  {
   "cell_type": "code",
   "execution_count": 4,
   "metadata": {},
   "outputs": [
    {
     "data": {
      "text/html": [
       "<div>\n",
       "<style scoped>\n",
       "    .dataframe tbody tr th:only-of-type {\n",
       "        vertical-align: middle;\n",
       "    }\n",
       "\n",
       "    .dataframe tbody tr th {\n",
       "        vertical-align: top;\n",
       "    }\n",
       "\n",
       "    .dataframe thead th {\n",
       "        text-align: right;\n",
       "    }\n",
       "</style>\n",
       "<table border=\"1\" class=\"dataframe\">\n",
       "  <thead>\n",
       "    <tr style=\"text-align: right;\">\n",
       "      <th></th>\n",
       "      <th>temperatura</th>\n",
       "      <th>pressão</th>\n",
       "      <th>humidade</th>\n",
       "      <th>direção do vento</th>\n",
       "      <th>velocidade do vento</th>\n",
       "      <th>dia_da_semana</th>\n",
       "      <th>data</th>\n",
       "    </tr>\n",
       "  </thead>\n",
       "  <tbody>\n",
       "    <tr>\n",
       "      <th>45248</th>\n",
       "      <td>282.00</td>\n",
       "      <td>1031.0</td>\n",
       "      <td>81.0</td>\n",
       "      <td>50.0</td>\n",
       "      <td>2.0</td>\n",
       "      <td>Terça</td>\n",
       "      <td>2017-11-29 20:00:00</td>\n",
       "    </tr>\n",
       "    <tr>\n",
       "      <th>45249</th>\n",
       "      <td>282.89</td>\n",
       "      <td>1030.0</td>\n",
       "      <td>71.0</td>\n",
       "      <td>330.0</td>\n",
       "      <td>1.0</td>\n",
       "      <td>Terça</td>\n",
       "      <td>2017-11-29 21:00:00</td>\n",
       "    </tr>\n",
       "    <tr>\n",
       "      <th>45250</th>\n",
       "      <td>283.39</td>\n",
       "      <td>1030.0</td>\n",
       "      <td>71.0</td>\n",
       "      <td>290.0</td>\n",
       "      <td>1.0</td>\n",
       "      <td>Terça</td>\n",
       "      <td>2017-11-29 22:00:00</td>\n",
       "    </tr>\n",
       "    <tr>\n",
       "      <th>45251</th>\n",
       "      <td>283.02</td>\n",
       "      <td>1029.0</td>\n",
       "      <td>71.0</td>\n",
       "      <td>290.0</td>\n",
       "      <td>2.0</td>\n",
       "      <td>Terça</td>\n",
       "      <td>2017-11-29 23:00:00</td>\n",
       "    </tr>\n",
       "    <tr>\n",
       "      <th>45252</th>\n",
       "      <td>282.28</td>\n",
       "      <td>1029.0</td>\n",
       "      <td>76.0</td>\n",
       "      <td>340.0</td>\n",
       "      <td>1.0</td>\n",
       "      <td>Quarta</td>\n",
       "      <td>2017-11-30 00:00:00</td>\n",
       "    </tr>\n",
       "  </tbody>\n",
       "</table>\n",
       "</div>"
      ],
      "text/plain": [
       "       temperatura  pressão  humidade  direção do vento  velocidade do vento  \\\n",
       "45248       282.00   1031.0      81.0              50.0                  2.0   \n",
       "45249       282.89   1030.0      71.0             330.0                  1.0   \n",
       "45250       283.39   1030.0      71.0             290.0                  1.0   \n",
       "45251       283.02   1029.0      71.0             290.0                  2.0   \n",
       "45252       282.28   1029.0      76.0             340.0                  1.0   \n",
       "\n",
       "      dia_da_semana                 data  \n",
       "45248         Terça  2017-11-29 20:00:00  \n",
       "45249         Terça  2017-11-29 21:00:00  \n",
       "45250         Terça  2017-11-29 22:00:00  \n",
       "45251         Terça  2017-11-29 23:00:00  \n",
       "45252        Quarta  2017-11-30 00:00:00  "
      ]
     },
     "execution_count": 4,
     "metadata": {},
     "output_type": "execute_result"
    }
   ],
   "source": [
    "df.tail() # exibe as quatro últimas linhas do dataframe"
   ]
  },
  {
   "cell_type": "code",
   "execution_count": 5,
   "metadata": {},
   "outputs": [
    {
     "data": {
      "text/html": [
       "<div>\n",
       "<style scoped>\n",
       "    .dataframe tbody tr th:only-of-type {\n",
       "        vertical-align: middle;\n",
       "    }\n",
       "\n",
       "    .dataframe tbody tr th {\n",
       "        vertical-align: top;\n",
       "    }\n",
       "\n",
       "    .dataframe thead th {\n",
       "        text-align: right;\n",
       "    }\n",
       "</style>\n",
       "<table border=\"1\" class=\"dataframe\">\n",
       "  <thead>\n",
       "    <tr style=\"text-align: right;\">\n",
       "      <th></th>\n",
       "      <th>temperatura</th>\n",
       "      <th>pressão</th>\n",
       "      <th>humidade</th>\n",
       "      <th>direção do vento</th>\n",
       "      <th>velocidade do vento</th>\n",
       "    </tr>\n",
       "  </thead>\n",
       "  <tbody>\n",
       "    <tr>\n",
       "      <th>count</th>\n",
       "      <td>45253.000000</td>\n",
       "      <td>45253.000000</td>\n",
       "      <td>45253.000000</td>\n",
       "      <td>45253.000000</td>\n",
       "      <td>45253.000000</td>\n",
       "    </tr>\n",
       "    <tr>\n",
       "      <th>mean</th>\n",
       "      <td>284.992865</td>\n",
       "      <td>1019.268292</td>\n",
       "      <td>74.671602</td>\n",
       "      <td>189.895874</td>\n",
       "      <td>2.050693</td>\n",
       "    </tr>\n",
       "    <tr>\n",
       "      <th>std</th>\n",
       "      <td>7.452368</td>\n",
       "      <td>9.942751</td>\n",
       "      <td>19.057901</td>\n",
       "      <td>102.876497</td>\n",
       "      <td>1.840820</td>\n",
       "    </tr>\n",
       "    <tr>\n",
       "      <th>min</th>\n",
       "      <td>262.370000</td>\n",
       "      <td>968.000000</td>\n",
       "      <td>10.000000</td>\n",
       "      <td>0.000000</td>\n",
       "      <td>0.000000</td>\n",
       "    </tr>\n",
       "    <tr>\n",
       "      <th>25%</th>\n",
       "      <td>279.850000</td>\n",
       "      <td>1014.000000</td>\n",
       "      <td>63.000000</td>\n",
       "      <td>107.000000</td>\n",
       "      <td>1.000000</td>\n",
       "    </tr>\n",
       "    <tr>\n",
       "      <th>50%</th>\n",
       "      <td>284.320000</td>\n",
       "      <td>1019.000000</td>\n",
       "      <td>80.000000</td>\n",
       "      <td>198.000000</td>\n",
       "      <td>1.000000</td>\n",
       "    </tr>\n",
       "    <tr>\n",
       "      <th>75%</th>\n",
       "      <td>289.450000</td>\n",
       "      <td>1025.000000</td>\n",
       "      <td>90.000000</td>\n",
       "      <td>289.000000</td>\n",
       "      <td>3.000000</td>\n",
       "    </tr>\n",
       "    <tr>\n",
       "      <th>max</th>\n",
       "      <td>312.520000</td>\n",
       "      <td>1056.000000</td>\n",
       "      <td>100.000000</td>\n",
       "      <td>360.000000</td>\n",
       "      <td>17.000000</td>\n",
       "    </tr>\n",
       "  </tbody>\n",
       "</table>\n",
       "</div>"
      ],
      "text/plain": [
       "        temperatura       pressão      humidade  direção do vento  \\\n",
       "count  45253.000000  45253.000000  45253.000000      45253.000000   \n",
       "mean     284.992865   1019.268292     74.671602        189.895874   \n",
       "std        7.452368      9.942751     19.057901        102.876497   \n",
       "min      262.370000    968.000000     10.000000          0.000000   \n",
       "25%      279.850000   1014.000000     63.000000        107.000000   \n",
       "50%      284.320000   1019.000000     80.000000        198.000000   \n",
       "75%      289.450000   1025.000000     90.000000        289.000000   \n",
       "max      312.520000   1056.000000    100.000000        360.000000   \n",
       "\n",
       "       velocidade do vento  \n",
       "count         45253.000000  \n",
       "mean              2.050693  \n",
       "std               1.840820  \n",
       "min               0.000000  \n",
       "25%               1.000000  \n",
       "50%               1.000000  \n",
       "75%               3.000000  \n",
       "max              17.000000  "
      ]
     },
     "execution_count": 5,
     "metadata": {},
     "output_type": "execute_result"
    }
   ],
   "source": [
    "df.describe()"
   ]
  },
  {
   "cell_type": "code",
   "execution_count": 6,
   "metadata": {},
   "outputs": [],
   "source": [
    "import datetime  # importando a biblioteca de data e hora"
   ]
  },
  {
   "cell_type": "code",
   "execution_count": 7,
   "metadata": {},
   "outputs": [],
   "source": [
    "df['data'] = pd.to_datetime(df['data'])    # converte a coluna data de objeto 64 para datetime"
   ]
  },
  {
   "cell_type": "code",
   "execution_count": 8,
   "metadata": {},
   "outputs": [
    {
     "name": "stdout",
     "output_type": "stream",
     "text": [
      "<class 'pandas.core.frame.DataFrame'>\n",
      "RangeIndex: 45253 entries, 0 to 45252\n",
      "Data columns (total 7 columns):\n",
      " #   Column               Non-Null Count  Dtype         \n",
      "---  ------               --------------  -----         \n",
      " 0   temperatura          45253 non-null  float64       \n",
      " 1   pressão              45253 non-null  float64       \n",
      " 2   humidade             45253 non-null  float64       \n",
      " 3   direção do vento     45253 non-null  float64       \n",
      " 4   velocidade do vento  45253 non-null  float64       \n",
      " 5   dia_da_semana        45253 non-null  object        \n",
      " 6   data                 45253 non-null  datetime64[ns]\n",
      "dtypes: datetime64[ns](1), float64(5), object(1)\n",
      "memory usage: 2.4+ MB\n"
     ]
    }
   ],
   "source": [
    "df.info()  # confere as informações se a conversão de dados foi feita"
   ]
  },
  {
   "cell_type": "code",
   "execution_count": 10,
   "metadata": {},
   "outputs": [
    {
     "name": "stderr",
     "output_type": "stream",
     "text": [
      "No artists with labels found to put in legend.  Note that artists whose label start with an underscore are ignored when legend() is called with no argument.\n"
     ]
    },
    {
     "data": {
      "text/plain": [
       "<matplotlib.legend.Legend at 0x1975bf5b950>"
      ]
     },
     "execution_count": 10,
     "metadata": {},
     "output_type": "execute_result"
    },
    {
     "data": {
      "image/png": "[encoded data removed]",
      "text/plain": [
       "<Figure size 640x480 with 1 Axes>"
      ]
     },
     "metadata": {},
     "output_type": "display_data"
    }
   ],
   "source": [
    "plt.plot(df['data'], df['temperatura'])   # criando o gráfico plot dos dados de data e temperatura\n",
    "plt.title('Temperatura X ano', fontsize=15)\n",
    "plt.xlabel('Ano')\n",
    "plt.ylabel('Temperatura')\n",
    "plt.legend(loc='best') # coloca legenda no gráfico"
   ]
  }
 ],
 "metadata": {
  "kernelspec": {
   "display_name": "Python 3",
   "language": "python",
   "name": "python3"
  },
  "language_info": {
   "codemirror_mode": {
    "name": "ipython",
    "version": 3
   },
   "file_extension": ".py",
   "mimetype": "text/x-python",
   "name": "python",
   "nbconvert_exporter": "python",
   "pygments_lexer": "ipython3",
   "version": "3.11.3"
  }
 },
 "nbformat": 4,
 "nbformat_minor": 2
}
