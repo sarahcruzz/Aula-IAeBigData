{
 "cells": [
  {
   "cell_type": "code",
   "execution_count": 4,
   "metadata": {},
   "outputs": [],
   "source": [
    "import pandas as pd"
   ]
  },
  {
   "cell_type": "code",
   "execution_count": 5,
   "metadata": {},
   "outputs": [],
   "source": [
    "dicionario = {\n",
    "    \"Nomes\": [\"Alice\", \"Julia\", \"Bruna\", \"Daniel\", \"Filipe\", \"Silvio\"],\n",
    "    \"Idade\": [19,22,28,34,28,48],\n",
    "    \"Profissões\": [\"Direito\", \"Engenharia\", \"Enfermagem\", \"Engenheiro Civil\", \"Cientista da Computação\", \"Engenheiro Eletrônico\"],\n",
    "    \"ID\": [1,2,3,4,5,6]\n",
    "}"
   ]
  },
  {
   "cell_type": "code",
   "execution_count": 6,
   "metadata": {},
   "outputs": [],
   "source": [
    "dados = pd.DataFrame(dicionario)     # cria o dataframe "
   ]
  },
  {
   "cell_type": "code",
   "execution_count": 8,
   "metadata": {},
   "outputs": [
    {
     "data": {
      "text/html": [
       "<div>\n",
       "<style scoped>\n",
       "    .dataframe tbody tr th:only-of-type {\n",
       "        vertical-align: middle;\n",
       "    }\n",
       "\n",
       "    .dataframe tbody tr th {\n",
       "        vertical-align: top;\n",
       "    }\n",
       "\n",
       "    .dataframe thead th {\n",
       "        text-align: right;\n",
       "    }\n",
       "</style>\n",
       "<table border=\"1\" class=\"dataframe\">\n",
       "  <thead>\n",
       "    <tr style=\"text-align: right;\">\n",
       "      <th></th>\n",
       "      <th>Nomes</th>\n",
       "      <th>Idade</th>\n",
       "      <th>Profissões</th>\n",
       "      <th>ID</th>\n",
       "    </tr>\n",
       "  </thead>\n",
       "  <tbody>\n",
       "    <tr>\n",
       "      <th>0</th>\n",
       "      <td>Alice</td>\n",
       "      <td>19</td>\n",
       "      <td>Direito</td>\n",
       "      <td>1</td>\n",
       "    </tr>\n",
       "    <tr>\n",
       "      <th>1</th>\n",
       "      <td>Julia</td>\n",
       "      <td>22</td>\n",
       "      <td>Engenharia</td>\n",
       "      <td>2</td>\n",
       "    </tr>\n",
       "    <tr>\n",
       "      <th>2</th>\n",
       "      <td>Bruna</td>\n",
       "      <td>28</td>\n",
       "      <td>Enfermagem</td>\n",
       "      <td>3</td>\n",
       "    </tr>\n",
       "    <tr>\n",
       "      <th>3</th>\n",
       "      <td>Daniel</td>\n",
       "      <td>34</td>\n",
       "      <td>Engenheiro Civil</td>\n",
       "      <td>4</td>\n",
       "    </tr>\n",
       "    <tr>\n",
       "      <th>4</th>\n",
       "      <td>Filipe</td>\n",
       "      <td>28</td>\n",
       "      <td>Cientista da Computação</td>\n",
       "      <td>5</td>\n",
       "    </tr>\n",
       "    <tr>\n",
       "      <th>5</th>\n",
       "      <td>Silvio</td>\n",
       "      <td>48</td>\n",
       "      <td>Engenheiro Eletrônico</td>\n",
       "      <td>6</td>\n",
       "    </tr>\n",
       "  </tbody>\n",
       "</table>\n",
       "</div>"
      ],
      "text/plain": [
       "    Nomes  Idade               Profissões  ID\n",
       "0   Alice     19                  Direito   1\n",
       "1   Julia     22               Engenharia   2\n",
       "2   Bruna     28               Enfermagem   3\n",
       "3  Daniel     34         Engenheiro Civil   4\n",
       "4  Filipe     28  Cientista da Computação   5\n",
       "5  Silvio     48    Engenheiro Eletrônico   6"
      ]
     },
     "execution_count": 8,
     "metadata": {},
     "output_type": "execute_result"
    }
   ],
   "source": [
    "dados.head(6) # exibe as seis linhas da base de dados (caso tenha mais de 4 linhas, temos que especificar a quantidade que queremos mostrar)"
   ]
  }
 ],
 "metadata": {
  "kernelspec": {
   "display_name": "Python 3",
   "language": "python",
   "name": "python3"
  },
  "language_info": {
   "codemirror_mode": {
    "name": "ipython",
    "version": 3
   },
   "file_extension": ".py",
   "mimetype": "text/x-python",
   "name": "python",
   "nbconvert_exporter": "python",
   "pygments_lexer": "ipython3",
   "version": "3.11.3"
  }
 },
 "nbformat": 4,
 "nbformat_minor": 2
}
